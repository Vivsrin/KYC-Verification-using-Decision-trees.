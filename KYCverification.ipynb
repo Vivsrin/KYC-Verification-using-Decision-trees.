{
 "cells": [
  {
   "cell_type": "code",
   "execution_count": 11,
   "metadata": {},
   "outputs": [
    {
     "name": "stdout",
     "output_type": "stream",
     "text": [
      "Collecting CMake\n",
      "  Downloading https://files.pythonhosted.org/packages/9f/5c/6e9f16c8d1f0fcdc51bede5ea3e979ea32843819a8ba9e9a324e13243238/cmake-3.13.3-cp36-cp36m-win32.whl (26.0MB)\n",
      "Installing collected packages: CMake\n",
      "Successfully installed CMake-3.13.3\n"
     ]
    },
    {
     "name": "stderr",
     "output_type": "stream",
     "text": [
      "You are using pip version 19.0.3, however version 19.1.1 is available.\n",
      "You should consider upgrading via the 'python -m pip install --upgrade pip' command.\n"
     ]
    },
    {
     "name": "stdout",
     "output_type": "stream",
     "text": [
      "Collecting face_recognition\n",
      "  Using cached https://files.pythonhosted.org/packages/3f/ed/ad9a28042f373d4633fc8b49109b623597d6f193d3bbbef7780a5ee8eef2/face_recognition-1.2.3-py2.py3-none-any.whl\n",
      "Collecting dlib>=19.7 (from face_recognition)\n",
      "  Using cached https://files.pythonhosted.org/packages/05/57/e8a8caa3c89a27f80bc78da39c423e2553f482a3705adc619176a3a24b36/dlib-19.17.0.tar.gz\n",
      "Collecting Pillow (from face_recognition)\n",
      "  Using cached https://files.pythonhosted.org/packages/b5/2b/920711835bbfba6c9a4ae3c668398ed13e4c0459ed815643b99db90e6778/Pillow-6.0.0-cp36-cp36m-win32.whl\n",
      "Requirement already satisfied: numpy in c:\\users\\admin\\appdata\\local\\programs\\python\\python36-32\\lib\\site-packages (from face_recognition) (1.15.4)\n",
      "Requirement already satisfied: Click>=6.0 in c:\\users\\admin\\appdata\\local\\programs\\python\\python36-32\\lib\\site-packages (from face_recognition) (7.0)\n",
      "Requirement already satisfied: face-recognition-models>=0.3.0 in c:\\users\\admin\\appdata\\local\\programs\\python\\python36-32\\lib\\site-packages (from face_recognition) (0.3.0)\n",
      "Building wheels for collected packages: dlib\n",
      "  Building wheel for dlib (setup.py): started\n",
      "  Building wheel for dlib (setup.py): finished with status 'error'\n",
      "  Complete output from command c:\\users\\admin\\appdata\\local\\programs\\python\\python36-32\\python.exe -u -c \"import setuptools, tokenize;__file__='C:\\\\Users\\\\ADMIN\\\\AppData\\\\Local\\\\Temp\\\\pip-install-_6mof6qc\\\\dlib\\\\setup.py';f=getattr(tokenize, 'open', open)(__file__);code=f.read().replace('\\r\\n', '\\n');f.close();exec(compile(code, __file__, 'exec'))\" bdist_wheel -d C:\\Users\\ADMIN\\AppData\\Local\\Temp\\pip-wheel-_22ogjge --python-tag cp36:\n",
      "  running bdist_wheel\n",
      "  running build\n",
      "  running build_py\n",
      "  package init file 'dlib\\__init__.py' not found (or not a regular file)\n",
      "  running build_ext\n",
      "  Building extension for Python 3.6.5 (v3.6.5:f59c0932b4, Mar 28 2018, 16:07:46) [MSC v.1900 32 bit (Intel)]\n",
      "  Invoking CMake setup: 'cmake C:\\Users\\ADMIN\\AppData\\Local\\Temp\\pip-install-_6mof6qc\\dlib\\tools\\python -DCMAKE_LIBRARY_OUTPUT_DIRECTORY=C:\\Users\\ADMIN\\AppData\\Local\\Temp\\pip-install-_6mof6qc\\dlib\\build\\lib.win32-3.6 -DPYTHON_EXECUTABLE=c:\\users\\admin\\appdata\\local\\programs\\python\\python36-32\\python.exe -DCMAKE_LIBRARY_OUTPUT_DIRECTORY_RELEASE=C:\\Users\\ADMIN\\AppData\\Local\\Temp\\pip-install-_6mof6qc\\dlib\\build\\lib.win32-3.6'\n",
      "  -- Building for: NMake Makefiles\n",
      "  -- The C compiler identification is unknown\n",
      "  -- The CXX compiler identification is unknown\n",
      "  CMake Error in CMakeLists.txt:\n",
      "    The CMAKE_C_COMPILER:\n",
      "  \n",
      "      cl\n",
      "  \n",
      "    is not a full path and was not found in the PATH.\n",
      "  \n",
      "    To use the NMake generator with Visual C++, cmake must be run from a shell\n",
      "    that can use the compiler cl from the command line.  This environment is\n",
      "    unable to invoke the cl compiler.  To fix this problem, run cmake from the\n",
      "    Visual Studio Command Prompt (vcvarsall.bat).\n",
      "  \n",
      "    Tell CMake where to find the compiler by setting either the environment\n",
      "    variable \"CC\" or the CMake cache entry CMAKE_C_COMPILER to the full path to\n",
      "    the compiler, or to the compiler name if it is in the PATH.\n",
      "  \n",
      "  \n",
      "  CMake Error in CMakeLists.txt:\n",
      "    The CMAKE_CXX_COMPILER:\n",
      "  \n",
      "      cl\n",
      "  \n",
      "    is not a full path and was not found in the PATH.\n",
      "  \n",
      "    To use the NMake generator with Visual C++, cmake must be run from a shell\n",
      "    that can use the compiler cl from the command line.  This environment is\n",
      "    unable to invoke the cl compiler.  To fix this problem, run cmake from the\n",
      "    Visual Studio Command Prompt (vcvarsall.bat).\n",
      "  \n",
      "    Tell CMake where to find the compiler by setting either the environment\n",
      "    variable \"CXX\" or the CMake cache entry CMAKE_CXX_COMPILER to the full path\n",
      "    to the compiler, or to the compiler name if it is in the PATH.\n",
      "  \n",
      "  \n",
      "  -- Configuring incomplete, errors occurred!\n",
      "  See also \"C:/Users/ADMIN/AppData/Local/Temp/pip-install-_6mof6qc/dlib/build/temp.win32-3.6/Release/CMakeFiles/CMakeOutput.log\".\n",
      "  See also \"C:/Users/ADMIN/AppData/Local/Temp/pip-install-_6mof6qc/dlib/build/temp.win32-3.6/Release/CMakeFiles/CMakeError.log\".\n",
      "  Traceback (most recent call last):\n",
      "    File \"<string>\", line 1, in <module>\n",
      "    File \"C:\\Users\\ADMIN\\AppData\\Local\\Temp\\pip-install-_6mof6qc\\dlib\\setup.py\", line 261, in <module>\n",
      "      'Topic :: Software Development',\n",
      "    File \"c:\\users\\admin\\appdata\\local\\programs\\python\\python36-32\\lib\\site-packages\\setuptools\\__init__.py\", line 129, in setup\n",
      "      return distutils.core.setup(**attrs)\n",
      "    File \"c:\\users\\admin\\appdata\\local\\programs\\python\\python36-32\\lib\\distutils\\core.py\", line 148, in setup\n",
      "      dist.run_commands()\n",
      "    File \"c:\\users\\admin\\appdata\\local\\programs\\python\\python36-32\\lib\\distutils\\dist.py\", line 955, in run_commands\n",
      "      self.run_command(cmd)\n",
      "    File \"c:\\users\\admin\\appdata\\local\\programs\\python\\python36-32\\lib\\distutils\\dist.py\", line 974, in run_command\n",
      "      cmd_obj.run()\n",
      "    File \"c:\\users\\admin\\appdata\\local\\programs\\python\\python36-32\\lib\\site-packages\\wheel\\bdist_wheel.py\", line 192, in run\n",
      "      self.run_command('build')\n",
      "    File \"c:\\users\\admin\\appdata\\local\\programs\\python\\python36-32\\lib\\distutils\\cmd.py\", line 313, in run_command\n",
      "      self.distribution.run_command(command)\n",
      "    File \"c:\\users\\admin\\appdata\\local\\programs\\python\\python36-32\\lib\\distutils\\dist.py\", line 974, in run_command\n",
      "      cmd_obj.run()\n",
      "    File \"c:\\users\\admin\\appdata\\local\\programs\\python\\python36-32\\lib\\distutils\\command\\build.py\", line 135, in run\n",
      "      self.run_command(cmd_name)\n",
      "    File \"c:\\users\\admin\\appdata\\local\\programs\\python\\python36-32\\lib\\distutils\\cmd.py\", line 313, in run_command\n",
      "      self.distribution.run_command(command)\n",
      "    File \"c:\\users\\admin\\appdata\\local\\programs\\python\\python36-32\\lib\\distutils\\dist.py\", line 974, in run_command\n",
      "      cmd_obj.run()\n",
      "    File \"C:\\Users\\ADMIN\\AppData\\Local\\Temp\\pip-install-_6mof6qc\\dlib\\setup.py\", line 135, in run\n",
      "      self.build_extension(ext)\n",
      "    File \"C:\\Users\\ADMIN\\AppData\\Local\\Temp\\pip-install-_6mof6qc\\dlib\\setup.py\", line 172, in build_extension\n",
      "      subprocess.check_call(cmake_setup, cwd=build_folder)\n",
      "    File \"c:\\users\\admin\\appdata\\local\\programs\\python\\python36-32\\lib\\subprocess.py\", line 291, in check_call\n",
      "      raise CalledProcessError(retcode, cmd)\n",
      "  subprocess.CalledProcessError: Command '['cmake', 'C:\\\\Users\\\\ADMIN\\\\AppData\\\\Local\\\\Temp\\\\pip-install-_6mof6qc\\\\dlib\\\\tools\\\\python', '-DCMAKE_LIBRARY_OUTPUT_DIRECTORY=C:\\\\Users\\\\ADMIN\\\\AppData\\\\Local\\\\Temp\\\\pip-install-_6mof6qc\\\\dlib\\\\build\\\\lib.win32-3.6', '-DPYTHON_EXECUTABLE=c:\\\\users\\\\admin\\\\appdata\\\\local\\\\programs\\\\python\\\\python36-32\\\\python.exe', '-DCMAKE_LIBRARY_OUTPUT_DIRECTORY_RELEASE=C:\\\\Users\\\\ADMIN\\\\AppData\\\\Local\\\\Temp\\\\pip-install-_6mof6qc\\\\dlib\\\\build\\\\lib.win32-3.6']' returned non-zero exit status 1.\n",
      "  \n",
      "  ----------------------------------------\n",
      "  Running setup.py clean for dlib\n",
      "Failed to build dlib\n",
      "Installing collected packages: dlib, Pillow, face-recognition\n",
      "  Running setup.py install for dlib: started\n",
      "    Running setup.py install for dlib: finished with status 'error'\n",
      "    Complete output from command c:\\users\\admin\\appdata\\local\\programs\\python\\python36-32\\python.exe -u -c \"import setuptools, tokenize;__file__='C:\\\\Users\\\\ADMIN\\\\AppData\\\\Local\\\\Temp\\\\pip-install-_6mof6qc\\\\dlib\\\\setup.py';f=getattr(tokenize, 'open', open)(__file__);code=f.read().replace('\\r\\n', '\\n');f.close();exec(compile(code, __file__, 'exec'))\" install --record C:\\Users\\ADMIN\\AppData\\Local\\Temp\\pip-record-v9787m3p\\install-record.txt --single-version-externally-managed --compile:\n",
      "    running install\n",
      "    running build\n",
      "    running build_py\n",
      "    package init file 'dlib\\__init__.py' not found (or not a regular file)\n",
      "    running build_ext\n",
      "    Building extension for Python 3.6.5 (v3.6.5:f59c0932b4, Mar 28 2018, 16:07:46) [MSC v.1900 32 bit (Intel)]\n",
      "    Invoking CMake setup: 'cmake C:\\Users\\ADMIN\\AppData\\Local\\Temp\\pip-install-_6mof6qc\\dlib\\tools\\python -DCMAKE_LIBRARY_OUTPUT_DIRECTORY=C:\\Users\\ADMIN\\AppData\\Local\\Temp\\pip-install-_6mof6qc\\dlib\\build\\lib.win32-3.6 -DPYTHON_EXECUTABLE=c:\\users\\admin\\appdata\\local\\programs\\python\\python36-32\\python.exe -DCMAKE_LIBRARY_OUTPUT_DIRECTORY_RELEASE=C:\\Users\\ADMIN\\AppData\\Local\\Temp\\pip-install-_6mof6qc\\dlib\\build\\lib.win32-3.6'\n",
      "    -- Building for: NMake Makefiles\n",
      "    -- The C compiler identification is unknown\n",
      "    -- The CXX compiler identification is unknown\n",
      "    CMake Error in CMakeLists.txt:\n",
      "      The CMAKE_C_COMPILER:\n",
      "    \n",
      "        cl\n",
      "    \n",
      "      is not a full path and was not found in the PATH.\n",
      "    \n",
      "      To use the NMake generator with Visual C++, cmake must be run from a shell\n",
      "      that can use the compiler cl from the command line.  This environment is\n",
      "      unable to invoke the cl compiler.  To fix this problem, run cmake from the\n",
      "      Visual Studio Command Prompt (vcvarsall.bat).\n",
      "    \n",
      "      Tell CMake where to find the compiler by setting either the environment\n",
      "      variable \"CC\" or the CMake cache entry CMAKE_C_COMPILER to the full path to\n",
      "      the compiler, or to the compiler name if it is in the PATH.\n",
      "    \n",
      "    \n",
      "    CMake Error in CMakeLists.txt:\n",
      "      The CMAKE_CXX_COMPILER:\n",
      "    \n",
      "        cl\n",
      "    \n",
      "      is not a full path and was not found in the PATH.\n",
      "    \n",
      "      To use the NMake generator with Visual C++, cmake must be run from a shell\n",
      "      that can use the compiler cl from the command line.  This environment is\n",
      "      unable to invoke the cl compiler.  To fix this problem, run cmake from the\n",
      "      Visual Studio Command Prompt (vcvarsall.bat).\n",
      "    \n",
      "      Tell CMake where to find the compiler by setting either the environment\n",
      "      variable \"CXX\" or the CMake cache entry CMAKE_CXX_COMPILER to the full path\n",
      "      to the compiler, or to the compiler name if it is in the PATH.\n",
      "    \n",
      "    \n",
      "    -- Configuring incomplete, errors occurred!\n",
      "    See also \"C:/Users/ADMIN/AppData/Local/Temp/pip-install-_6mof6qc/dlib/build/temp.win32-3.6/Release/CMakeFiles/CMakeOutput.log\".\n",
      "    See also \"C:/Users/ADMIN/AppData/Local/Temp/pip-install-_6mof6qc/dlib/build/temp.win32-3.6/Release/CMakeFiles/CMakeError.log\".\n",
      "    Traceback (most recent call last):\n",
      "      File \"<string>\", line 1, in <module>\n",
      "      File \"C:\\Users\\ADMIN\\AppData\\Local\\Temp\\pip-install-_6mof6qc\\dlib\\setup.py\", line 261, in <module>\n",
      "        'Topic :: Software Development',\n",
      "      File \"c:\\users\\admin\\appdata\\local\\programs\\python\\python36-32\\lib\\site-packages\\setuptools\\__init__.py\", line 129, in setup\n",
      "        return distutils.core.setup(**attrs)\n",
      "      File \"c:\\users\\admin\\appdata\\local\\programs\\python\\python36-32\\lib\\distutils\\core.py\", line 148, in setup\n",
      "        dist.run_commands()\n",
      "      File \"c:\\users\\admin\\appdata\\local\\programs\\python\\python36-32\\lib\\distutils\\dist.py\", line 955, in run_commands\n",
      "        self.run_command(cmd)\n",
      "      File \"c:\\users\\admin\\appdata\\local\\programs\\python\\python36-32\\lib\\distutils\\dist.py\", line 974, in run_command\n",
      "        cmd_obj.run()\n",
      "      File \"c:\\users\\admin\\appdata\\local\\programs\\python\\python36-32\\lib\\site-packages\\setuptools\\command\\install.py\", line 61, in run\n",
      "        return orig.install.run(self)\n",
      "      File \"c:\\users\\admin\\appdata\\local\\programs\\python\\python36-32\\lib\\distutils\\command\\install.py\", line 545, in run\n",
      "        self.run_command('build')\n",
      "      File \"c:\\users\\admin\\appdata\\local\\programs\\python\\python36-32\\lib\\distutils\\cmd.py\", line 313, in run_command\n",
      "        self.distribution.run_command(command)\n",
      "      File \"c:\\users\\admin\\appdata\\local\\programs\\python\\python36-32\\lib\\distutils\\dist.py\", line 974, in run_command\n",
      "        cmd_obj.run()\n",
      "      File \"c:\\users\\admin\\appdata\\local\\programs\\python\\python36-32\\lib\\distutils\\command\\build.py\", line 135, in run\n",
      "        self.run_command(cmd_name)\n",
      "      File \"c:\\users\\admin\\appdata\\local\\programs\\python\\python36-32\\lib\\distutils\\cmd.py\", line 313, in run_command\n",
      "        self.distribution.run_command(command)\n",
      "      File \"c:\\users\\admin\\appdata\\local\\programs\\python\\python36-32\\lib\\distutils\\dist.py\", line 974, in run_command\n",
      "        cmd_obj.run()\n",
      "      File \"C:\\Users\\ADMIN\\AppData\\Local\\Temp\\pip-install-_6mof6qc\\dlib\\setup.py\", line 135, in run\n",
      "        self.build_extension(ext)\n",
      "      File \"C:\\Users\\ADMIN\\AppData\\Local\\Temp\\pip-install-_6mof6qc\\dlib\\setup.py\", line 172, in build_extension\n",
      "        subprocess.check_call(cmake_setup, cwd=build_folder)\n",
      "      File \"c:\\users\\admin\\appdata\\local\\programs\\python\\python36-32\\lib\\subprocess.py\", line 291, in check_call\n",
      "        raise CalledProcessError(retcode, cmd)\n",
      "    subprocess.CalledProcessError: Command '['cmake', 'C:\\\\Users\\\\ADMIN\\\\AppData\\\\Local\\\\Temp\\\\pip-install-_6mof6qc\\\\dlib\\\\tools\\\\python', '-DCMAKE_LIBRARY_OUTPUT_DIRECTORY=C:\\\\Users\\\\ADMIN\\\\AppData\\\\Local\\\\Temp\\\\pip-install-_6mof6qc\\\\dlib\\\\build\\\\lib.win32-3.6', '-DPYTHON_EXECUTABLE=c:\\\\users\\\\admin\\\\appdata\\\\local\\\\programs\\\\python\\\\python36-32\\\\python.exe', '-DCMAKE_LIBRARY_OUTPUT_DIRECTORY_RELEASE=C:\\\\Users\\\\ADMIN\\\\AppData\\\\Local\\\\Temp\\\\pip-install-_6mof6qc\\\\dlib\\\\build\\\\lib.win32-3.6']' returned non-zero exit status 1.\n",
      "    \n",
      "    ----------------------------------------\n"
     ]
    },
    {
     "name": "stderr",
     "output_type": "stream",
     "text": [
      "  Failed building wheel for dlib\n",
      "Command \"c:\\users\\admin\\appdata\\local\\programs\\python\\python36-32\\python.exe -u -c \"import setuptools, tokenize;__file__='C:\\\\Users\\\\ADMIN\\\\AppData\\\\Local\\\\Temp\\\\pip-install-_6mof6qc\\\\dlib\\\\setup.py';f=getattr(tokenize, 'open', open)(__file__);code=f.read().replace('\\r\\n', '\\n');f.close();exec(compile(code, __file__, 'exec'))\" install --record C:\\Users\\ADMIN\\AppData\\Local\\Temp\\pip-record-v9787m3p\\install-record.txt --single-version-externally-managed --compile\" failed with error code 1 in C:\\Users\\ADMIN\\AppData\\Local\\Temp\\pip-install-_6mof6qc\\dlib\\\n",
      "You are using pip version 19.0.3, however version 19.1.1 is available.\n",
      "You should consider upgrading via the 'python -m pip install --upgrade pip' command.\n"
     ]
    }
   ],
   "source": [
    "!pip install CMake"
   ]
  },
  {
   "cell_type": "code",
   "execution_count": 2,
   "metadata": {},
   "outputs": [],
   "source": [
    "from sklearn import tree\n",
    "from sklearn.model_selection import train_test_split\n",
    "import numpy as np\n",
    "import pandas as pd\n",
    "from sklearn.ensemble import RandomForestClassifier\n",
    "from sklearn.model_selection import cross_val_score\n"
   ]
  },
  {
   "cell_type": "code",
   "execution_count": 25,
   "metadata": {},
   "outputs": [],
   "source": [
    "data=pd.read_csv(\"F:/doc_reports.csv\")"
   ]
  },
  {
   "cell_type": "code",
   "execution_count": 26,
   "metadata": {},
   "outputs": [],
   "source": [
    "pred_var=[\"visual_authenticity_result\",\"image_integrity_result\",\"face_detection_result\",\"image_quality_result\",\"supported_document_result\",\"data_validation_result\",\"data_consistency_result\",\"police_record_result\",\"compromised_document_result\"]"
   ]
  },
  {
   "cell_type": "code",
   "execution_count": 27,
   "metadata": {},
   "outputs": [],
   "source": [
    "data.dropna(subset=['result'],inplace=True)"
   ]
  },
  {
   "cell_type": "code",
   "execution_count": 28,
   "metadata": {},
   "outputs": [
    {
     "name": "stdout",
     "output_type": "stream",
     "text": [
      "176404\n"
     ]
    }
   ],
   "source": [
    "le=data.shape[0]\n",
    "print(le)"
   ]
  },
  {
   "cell_type": "code",
   "execution_count": 29,
   "metadata": {},
   "outputs": [
    {
     "data": {
      "text/html": [
       "<div>\n",
       "<style scoped>\n",
       "    .dataframe tbody tr th:only-of-type {\n",
       "        vertical-align: middle;\n",
       "    }\n",
       "\n",
       "    .dataframe tbody tr th {\n",
       "        vertical-align: top;\n",
       "    }\n",
       "\n",
       "    .dataframe thead th {\n",
       "        text-align: right;\n",
       "    }\n",
       "</style>\n",
       "<table border=\"1\" class=\"dataframe\">\n",
       "  <thead>\n",
       "    <tr style=\"text-align: right;\">\n",
       "      <th></th>\n",
       "      <th>Unnamed: 0</th>\n",
       "      <th>user_id</th>\n",
       "      <th>result</th>\n",
       "      <th>visual_authenticity_result</th>\n",
       "      <th>image_integrity_result</th>\n",
       "      <th>face_detection_result</th>\n",
       "      <th>image_quality_result</th>\n",
       "      <th>created_at</th>\n",
       "      <th>supported_document_result</th>\n",
       "      <th>conclusive_document_quality_result</th>\n",
       "      <th>colour_picture_result</th>\n",
       "      <th>data_validation_result</th>\n",
       "      <th>data_consistency_result</th>\n",
       "      <th>data_comparison_result</th>\n",
       "      <th>attempt_id</th>\n",
       "      <th>police_record_result</th>\n",
       "      <th>compromised_document_result</th>\n",
       "      <th>properties</th>\n",
       "      <th>sub_result</th>\n",
       "    </tr>\n",
       "  </thead>\n",
       "  <tbody>\n",
       "    <tr>\n",
       "      <th>0</th>\n",
       "      <td>0</td>\n",
       "      <td>ab23fae164e34af0a1ad1423ce9fd9f0</td>\n",
       "      <td>consider</td>\n",
       "      <td>consider</td>\n",
       "      <td>clear</td>\n",
       "      <td>clear</td>\n",
       "      <td>clear</td>\n",
       "      <td>2017-06-20T23:12:57Z</td>\n",
       "      <td>clear</td>\n",
       "      <td>NaN</td>\n",
       "      <td>NaN</td>\n",
       "      <td>clear</td>\n",
       "      <td>clear</td>\n",
       "      <td>NaN</td>\n",
       "      <td>050a0596de424fab83c433eaa18b3f8d</td>\n",
       "      <td>clear</td>\n",
       "      <td>NaN</td>\n",
       "      <td>{'gender': 'Male', 'nationality': 'IRL', 'docu...</td>\n",
       "      <td>caution</td>\n",
       "    </tr>\n",
       "    <tr>\n",
       "      <th>1</th>\n",
       "      <td>1</td>\n",
       "      <td>15a84e8951254011b47412fa4e8f65b8</td>\n",
       "      <td>clear</td>\n",
       "      <td>clear</td>\n",
       "      <td>clear</td>\n",
       "      <td>clear</td>\n",
       "      <td>clear</td>\n",
       "      <td>2017-06-20T23:16:04Z</td>\n",
       "      <td>clear</td>\n",
       "      <td>NaN</td>\n",
       "      <td>NaN</td>\n",
       "      <td>clear</td>\n",
       "      <td>NaN</td>\n",
       "      <td>NaN</td>\n",
       "      <td>f69c1e5f45a64e50a26740b9bfb978b7</td>\n",
       "      <td>clear</td>\n",
       "      <td>NaN</td>\n",
       "      <td>{'gender': 'Female', 'document_type': 'driving...</td>\n",
       "      <td>clear</td>\n",
       "    </tr>\n",
       "    <tr>\n",
       "      <th>2</th>\n",
       "      <td>2</td>\n",
       "      <td>ffb82fda52b041e4b9af9cb4ef298c85</td>\n",
       "      <td>clear</td>\n",
       "      <td>clear</td>\n",
       "      <td>clear</td>\n",
       "      <td>clear</td>\n",
       "      <td>clear</td>\n",
       "      <td>2017-06-20T17:59:49Z</td>\n",
       "      <td>clear</td>\n",
       "      <td>NaN</td>\n",
       "      <td>NaN</td>\n",
       "      <td>clear</td>\n",
       "      <td>clear</td>\n",
       "      <td>NaN</td>\n",
       "      <td>f9f84f3055714d8e8f7419dc984d1769</td>\n",
       "      <td>clear</td>\n",
       "      <td>NaN</td>\n",
       "      <td>{'gender': 'Male', 'nationality': 'ITA', 'docu...</td>\n",
       "      <td>clear</td>\n",
       "    </tr>\n",
       "    <tr>\n",
       "      <th>3</th>\n",
       "      <td>3</td>\n",
       "      <td>bd4a8b3e3601427e88aa1d9eab9f4290</td>\n",
       "      <td>clear</td>\n",
       "      <td>clear</td>\n",
       "      <td>clear</td>\n",
       "      <td>clear</td>\n",
       "      <td>clear</td>\n",
       "      <td>2017-06-20T17:59:38Z</td>\n",
       "      <td>clear</td>\n",
       "      <td>NaN</td>\n",
       "      <td>NaN</td>\n",
       "      <td>clear</td>\n",
       "      <td>clear</td>\n",
       "      <td>NaN</td>\n",
       "      <td>10a54a1ecf794404be959e030f11fef6</td>\n",
       "      <td>clear</td>\n",
       "      <td>NaN</td>\n",
       "      <td>{'gender': 'Male', 'issuing_date': '2007-08', ...</td>\n",
       "      <td>clear</td>\n",
       "    </tr>\n",
       "    <tr>\n",
       "      <th>4</th>\n",
       "      <td>4</td>\n",
       "      <td>f52ad1c7e69543a9940c3e7f8ed28a39</td>\n",
       "      <td>clear</td>\n",
       "      <td>clear</td>\n",
       "      <td>clear</td>\n",
       "      <td>clear</td>\n",
       "      <td>clear</td>\n",
       "      <td>2017-06-20T18:08:09Z</td>\n",
       "      <td>clear</td>\n",
       "      <td>NaN</td>\n",
       "      <td>NaN</td>\n",
       "      <td>clear</td>\n",
       "      <td>clear</td>\n",
       "      <td>NaN</td>\n",
       "      <td>1f320d1d07de493292b7e0d5ebfb1cb9</td>\n",
       "      <td>clear</td>\n",
       "      <td>NaN</td>\n",
       "      <td>{'gender': 'Male', 'nationality': 'POL', 'docu...</td>\n",
       "      <td>clear</td>\n",
       "    </tr>\n",
       "  </tbody>\n",
       "</table>\n",
       "</div>"
      ],
      "text/plain": [
       "   Unnamed: 0                           user_id    result  \\\n",
       "0           0  ab23fae164e34af0a1ad1423ce9fd9f0  consider   \n",
       "1           1  15a84e8951254011b47412fa4e8f65b8     clear   \n",
       "2           2  ffb82fda52b041e4b9af9cb4ef298c85     clear   \n",
       "3           3  bd4a8b3e3601427e88aa1d9eab9f4290     clear   \n",
       "4           4  f52ad1c7e69543a9940c3e7f8ed28a39     clear   \n",
       "\n",
       "  visual_authenticity_result image_integrity_result face_detection_result  \\\n",
       "0                   consider                  clear                 clear   \n",
       "1                      clear                  clear                 clear   \n",
       "2                      clear                  clear                 clear   \n",
       "3                      clear                  clear                 clear   \n",
       "4                      clear                  clear                 clear   \n",
       "\n",
       "  image_quality_result            created_at supported_document_result  \\\n",
       "0                clear  2017-06-20T23:12:57Z                     clear   \n",
       "1                clear  2017-06-20T23:16:04Z                     clear   \n",
       "2                clear  2017-06-20T17:59:49Z                     clear   \n",
       "3                clear  2017-06-20T17:59:38Z                     clear   \n",
       "4                clear  2017-06-20T18:08:09Z                     clear   \n",
       "\n",
       "  conclusive_document_quality_result colour_picture_result  \\\n",
       "0                                NaN                   NaN   \n",
       "1                                NaN                   NaN   \n",
       "2                                NaN                   NaN   \n",
       "3                                NaN                   NaN   \n",
       "4                                NaN                   NaN   \n",
       "\n",
       "  data_validation_result data_consistency_result data_comparison_result  \\\n",
       "0                  clear                   clear                    NaN   \n",
       "1                  clear                     NaN                    NaN   \n",
       "2                  clear                   clear                    NaN   \n",
       "3                  clear                   clear                    NaN   \n",
       "4                  clear                   clear                    NaN   \n",
       "\n",
       "                         attempt_id police_record_result  \\\n",
       "0  050a0596de424fab83c433eaa18b3f8d                clear   \n",
       "1  f69c1e5f45a64e50a26740b9bfb978b7                clear   \n",
       "2  f9f84f3055714d8e8f7419dc984d1769                clear   \n",
       "3  10a54a1ecf794404be959e030f11fef6                clear   \n",
       "4  1f320d1d07de493292b7e0d5ebfb1cb9                clear   \n",
       "\n",
       "  compromised_document_result  \\\n",
       "0                         NaN   \n",
       "1                         NaN   \n",
       "2                         NaN   \n",
       "3                         NaN   \n",
       "4                         NaN   \n",
       "\n",
       "                                          properties sub_result  \n",
       "0  {'gender': 'Male', 'nationality': 'IRL', 'docu...    caution  \n",
       "1  {'gender': 'Female', 'document_type': 'driving...      clear  \n",
       "2  {'gender': 'Male', 'nationality': 'ITA', 'docu...      clear  \n",
       "3  {'gender': 'Male', 'issuing_date': '2007-08', ...      clear  \n",
       "4  {'gender': 'Male', 'nationality': 'POL', 'docu...      clear  "
      ]
     },
     "execution_count": 29,
     "metadata": {},
     "output_type": "execute_result"
    }
   ],
   "source": [
    "data.head()"
   ]
  },
  {
   "cell_type": "code",
   "execution_count": 30,
   "metadata": {},
   "outputs": [],
   "source": [
    "data.loc[data[\"visual_authenticity_result\"] == \"clear\", \"visual_authenticity_result\"] = 1\n",
    "data.loc[data[\"visual_authenticity_result\"] == \"consider\", \"visual_authenticity_result\"] = 0\n",
    "# train.loc[train[\"result\"] ==\"clear\", \"result\"] = 1\n",
    "# train.loc[train[\"result\"] ==\"consider\", \"result\"] = 0\n",
    "data.loc[data[\"image_integrity_result\"] ==\"clear\", \"image_integrity_result\"] = 1\n",
    "data.loc[data[\"image_integrity_result\"] ==\"consider\", \"image_integrity_result\"] = 0\n",
    "data.loc[data[\"face_detection_result\"] ==\"clear\", \"face_detection_result\"] = 1\n",
    "data.loc[data[\"face_detection_result\"] ==\"consider\", \"face_detection_result\"] = 0\n",
    "data.loc[data[\"image_quality_result\"] ==\"clear\", \"image_quality_result\"] = 1\n",
    "# train.loc[train[\"image_quality_result\"] ==\"consider\", \"image_quality_result\"] = 0\n",
    "data.loc[data[\"supported_document_result\"] ==\"clear\", \"supported_document_result\"] = 1\n",
    "# train.loc[train[\"supported_document_result\"] ==\"consider\", \"supported_document_result\"] = 0\n",
    "data.loc[data[\"data_validation_result\"] ==\"clear\", \"data_validation_result\"] = 1\n",
    "data.loc[data[\"data_validation_result\"] ==\"consider\", \"data_validation_result\"] = 0\n",
    "data.loc[data[\"data_consistency_result\"] ==\"clear\", \"data_consistency_result\"] = 1\n",
    "data.loc[data[\"data_consistency_result\"] ==\"consider\", \"data_consistency_result\"] = 0\n",
    "data.loc[data[\"police_record_result\"] ==\"clear\", \"police_record_result\"] = 1\n",
    "data.loc[data[\"police_record_result\"] ==\"consider\", \"police_record_result\"] = 0\n",
    "data.loc[data[\"compromised_document_result\"] ==\"clear\", \"compromised_document_result\"] = 1\n",
    "data.loc[data[\"compromised_document_result\"] ==\"consider\", \"compromised_document_result\"] = 0"
   ]
  },
  {
   "cell_type": "code",
   "execution_count": 31,
   "metadata": {},
   "outputs": [],
   "source": [
    "data.loc[data[\"result\"] ==\"clear\", \"result\"] = 1\n",
    "data.loc[data[\"result\"] ==\"consider\", \"result\"] = 0"
   ]
  },
  {
   "cell_type": "code",
   "execution_count": 32,
   "metadata": {},
   "outputs": [],
   "source": [
    "data.fillna(0,inplace=True)\n",
    "data['image_quality_result'].replace(\"unidentified\",0,inplace=True)\n",
    "data['supported_document_result'].replace(\"unidentified\",0,inplace=True)"
   ]
  },
  {
   "cell_type": "code",
   "execution_count": 33,
   "metadata": {},
   "outputs": [],
   "source": [
    "x_train,x_test,y_train,y_test=\\\n",
    "train_test_split(data[pred_var],data.result,test_size=0.20,random_state=42)"
   ]
  },
  {
   "cell_type": "code",
   "execution_count": 34,
   "metadata": {},
   "outputs": [
    {
     "data": {
      "text/html": [
       "<div>\n",
       "<style scoped>\n",
       "    .dataframe tbody tr th:only-of-type {\n",
       "        vertical-align: middle;\n",
       "    }\n",
       "\n",
       "    .dataframe tbody tr th {\n",
       "        vertical-align: top;\n",
       "    }\n",
       "\n",
       "    .dataframe thead th {\n",
       "        text-align: right;\n",
       "    }\n",
       "</style>\n",
       "<table border=\"1\" class=\"dataframe\">\n",
       "  <thead>\n",
       "    <tr style=\"text-align: right;\">\n",
       "      <th></th>\n",
       "      <th>visual_authenticity_result</th>\n",
       "      <th>image_integrity_result</th>\n",
       "      <th>face_detection_result</th>\n",
       "      <th>image_quality_result</th>\n",
       "      <th>supported_document_result</th>\n",
       "      <th>data_validation_result</th>\n",
       "      <th>data_consistency_result</th>\n",
       "      <th>police_record_result</th>\n",
       "      <th>compromised_document_result</th>\n",
       "    </tr>\n",
       "  </thead>\n",
       "  <tbody>\n",
       "    <tr>\n",
       "      <th>36300</th>\n",
       "      <td>1</td>\n",
       "      <td>1</td>\n",
       "      <td>1</td>\n",
       "      <td>1</td>\n",
       "      <td>1</td>\n",
       "      <td>1</td>\n",
       "      <td>0</td>\n",
       "      <td>1</td>\n",
       "      <td>0</td>\n",
       "    </tr>\n",
       "    <tr>\n",
       "      <th>91867</th>\n",
       "      <td>0</td>\n",
       "      <td>0</td>\n",
       "      <td>0</td>\n",
       "      <td>0</td>\n",
       "      <td>1</td>\n",
       "      <td>0</td>\n",
       "      <td>0</td>\n",
       "      <td>0</td>\n",
       "      <td>0</td>\n",
       "    </tr>\n",
       "    <tr>\n",
       "      <th>122861</th>\n",
       "      <td>1</td>\n",
       "      <td>1</td>\n",
       "      <td>1</td>\n",
       "      <td>1</td>\n",
       "      <td>1</td>\n",
       "      <td>1</td>\n",
       "      <td>1</td>\n",
       "      <td>1</td>\n",
       "      <td>0</td>\n",
       "    </tr>\n",
       "    <tr>\n",
       "      <th>97682</th>\n",
       "      <td>1</td>\n",
       "      <td>0</td>\n",
       "      <td>1</td>\n",
       "      <td>1</td>\n",
       "      <td>1</td>\n",
       "      <td>1</td>\n",
       "      <td>0</td>\n",
       "      <td>1</td>\n",
       "      <td>0</td>\n",
       "    </tr>\n",
       "    <tr>\n",
       "      <th>143080</th>\n",
       "      <td>0</td>\n",
       "      <td>0</td>\n",
       "      <td>0</td>\n",
       "      <td>0</td>\n",
       "      <td>1</td>\n",
       "      <td>0</td>\n",
       "      <td>0</td>\n",
       "      <td>0</td>\n",
       "      <td>0</td>\n",
       "    </tr>\n",
       "  </tbody>\n",
       "</table>\n",
       "</div>"
      ],
      "text/plain": [
       "        visual_authenticity_result  image_integrity_result  \\\n",
       "36300                            1                       1   \n",
       "91867                            0                       0   \n",
       "122861                           1                       1   \n",
       "97682                            1                       0   \n",
       "143080                           0                       0   \n",
       "\n",
       "        face_detection_result  image_quality_result  \\\n",
       "36300                       1                     1   \n",
       "91867                       0                     0   \n",
       "122861                      1                     1   \n",
       "97682                       1                     1   \n",
       "143080                      0                     0   \n",
       "\n",
       "        supported_document_result  data_validation_result  \\\n",
       "36300                           1                       1   \n",
       "91867                           1                       0   \n",
       "122861                          1                       1   \n",
       "97682                           1                       1   \n",
       "143080                          1                       0   \n",
       "\n",
       "        data_consistency_result  police_record_result  \\\n",
       "36300                         0                     1   \n",
       "91867                         0                     0   \n",
       "122861                        1                     1   \n",
       "97682                         0                     1   \n",
       "143080                        0                     0   \n",
       "\n",
       "        compromised_document_result  \n",
       "36300                             0  \n",
       "91867                             0  \n",
       "122861                            0  \n",
       "97682                             0  \n",
       "143080                            0  "
      ]
     },
     "execution_count": 34,
     "metadata": {},
     "output_type": "execute_result"
    }
   ],
   "source": [
    "x_train.head()"
   ]
  },
  {
   "cell_type": "code",
   "execution_count": 35,
   "metadata": {},
   "outputs": [],
   "source": [
    "c=tree.DecisionTreeClassifier(criterion='gini')"
   ]
  },
  {
   "cell_type": "code",
   "execution_count": 36,
   "metadata": {},
   "outputs": [
    {
     "data": {
      "text/plain": [
       "DecisionTreeClassifier(class_weight=None, criterion='gini', max_depth=None,\n",
       "            max_features=None, max_leaf_nodes=None,\n",
       "            min_impurity_decrease=0.0, min_impurity_split=None,\n",
       "            min_samples_leaf=1, min_samples_split=2,\n",
       "            min_weight_fraction_leaf=0.0, presort=False, random_state=None,\n",
       "            splitter='best')"
      ]
     },
     "execution_count": 36,
     "metadata": {},
     "output_type": "execute_result"
    }
   ],
   "source": [
    "c.fit(x_train,y_train)"
   ]
  },
  {
   "cell_type": "code",
   "execution_count": 37,
   "metadata": {},
   "outputs": [],
   "source": [
    "accu_train=np.sum(c.predict(x_train)==y_train)\n",
    "accu_test=np.sum(c.predict(x_test)==y_test)"
   ]
  },
  {
   "cell_type": "code",
   "execution_count": 41,
   "metadata": {},
   "outputs": [
    {
     "name": "stdout",
     "output_type": "stream",
     "text": [
      "0.9945579773815935\n"
     ]
    }
   ],
   "source": [
    "print(accu_test/x_test.shape[0])"
   ]
  },
  {
   "cell_type": "code",
   "execution_count": 100,
   "metadata": {},
   "outputs": [],
   "source": [
    "modelrandom=RandomForestClassifier(max_depth=4)"
   ]
  },
  {
   "cell_type": "code",
   "execution_count": 101,
   "metadata": {},
   "outputs": [
    {
     "name": "stderr",
     "output_type": "stream",
     "text": [
      "c:\\users\\admin\\appdata\\local\\programs\\python\\python36-32\\lib\\site-packages\\sklearn\\ensemble\\forest.py:246: FutureWarning: The default value of n_estimators will change from 10 in version 0.20 to 100 in 0.22.\n",
      "  \"10 in version 0.20 to 100 in 0.22.\", FutureWarning)\n",
      "c:\\users\\admin\\appdata\\local\\programs\\python\\python36-32\\lib\\site-packages\\sklearn\\ensemble\\forest.py:246: FutureWarning: The default value of n_estimators will change from 10 in version 0.20 to 100 in 0.22.\n",
      "  \"10 in version 0.20 to 100 in 0.22.\", FutureWarning)\n",
      "c:\\users\\admin\\appdata\\local\\programs\\python\\python36-32\\lib\\site-packages\\sklearn\\ensemble\\forest.py:246: FutureWarning: The default value of n_estimators will change from 10 in version 0.20 to 100 in 0.22.\n",
      "  \"10 in version 0.20 to 100 in 0.22.\", FutureWarning)\n",
      "c:\\users\\admin\\appdata\\local\\programs\\python\\python36-32\\lib\\site-packages\\sklearn\\ensemble\\forest.py:246: FutureWarning: The default value of n_estimators will change from 10 in version 0.20 to 100 in 0.22.\n",
      "  \"10 in version 0.20 to 100 in 0.22.\", FutureWarning)\n",
      "c:\\users\\admin\\appdata\\local\\programs\\python\\python36-32\\lib\\site-packages\\sklearn\\ensemble\\forest.py:246: FutureWarning: The default value of n_estimators will change from 10 in version 0.20 to 100 in 0.22.\n",
      "  \"10 in version 0.20 to 100 in 0.22.\", FutureWarning)\n"
     ]
    }
   ],
   "source": [
    "modelRandomCV=cross_val_score(modelrandom,x_train,y_train,cv=5)"
   ]
  },
  {
   "cell_type": "code",
   "execution_count": 102,
   "metadata": {},
   "outputs": [
    {
     "name": "stdout",
     "output_type": "stream",
     "text": [
      "0.9926021746287139\n"
     ]
    }
   ],
   "source": [
    "print(modelRandomCV.mean())"
   ]
  },
  {
   "cell_type": "code",
   "execution_count": 103,
   "metadata": {},
   "outputs": [
    {
     "name": "stderr",
     "output_type": "stream",
     "text": [
      "c:\\users\\admin\\appdata\\local\\programs\\python\\python36-32\\lib\\site-packages\\sklearn\\ensemble\\forest.py:246: FutureWarning: The default value of n_estimators will change from 10 in version 0.20 to 100 in 0.22.\n",
      "  \"10 in version 0.20 to 100 in 0.22.\", FutureWarning)\n"
     ]
    },
    {
     "data": {
      "text/plain": [
       "RandomForestClassifier(bootstrap=True, class_weight=None, criterion='gini',\n",
       "            max_depth=4, max_features='auto', max_leaf_nodes=None,\n",
       "            min_impurity_decrease=0.0, min_impurity_split=None,\n",
       "            min_samples_leaf=1, min_samples_split=2,\n",
       "            min_weight_fraction_leaf=0.0, n_estimators=10, n_jobs=None,\n",
       "            oob_score=False, random_state=None, verbose=0,\n",
       "            warm_start=False)"
      ]
     },
     "execution_count": 103,
     "metadata": {},
     "output_type": "execute_result"
    }
   ],
   "source": [
    "modelrandom.fit(x_train,y_train)"
   ]
  },
  {
   "cell_type": "code",
   "execution_count": 104,
   "metadata": {},
   "outputs": [],
   "source": [
    "predictions=modelrandom.predict(x_test)"
   ]
  },
  {
   "cell_type": "code",
   "execution_count": 105,
   "metadata": {},
   "outputs": [
    {
     "name": "stdout",
     "output_type": "stream",
     "text": [
      "0.9912700887163062\n"
     ]
    }
   ],
   "source": [
    "acc=(np.sum(predictions==y_test))\n",
    "print(acc/y_test.shape[0])"
   ]
  },
  {
   "cell_type": "code",
   "execution_count": 106,
   "metadata": {},
   "outputs": [],
   "source": [
    "top={'visual_authenticity_result':[1],'image_integrity_result':[1],'face_detection_result':[0],'image_quality_result':[1],'supported_document_result':[1],'data_validation_result':[0],'data_consistency_result':[0],'police_record_result':[1],'compromised_document_result':[1]}"
   ]
  },
  {
   "cell_type": "code",
   "execution_count": 107,
   "metadata": {},
   "outputs": [],
   "source": [
    "xtrain=pd.DataFrame(top,columns=['visual_authenticity_result','image_integrity_result','face_detection_result','image_quality_result','supported_document_result','data_validation_result','data_consistency_result','police_record_result','compromised_document_result'])"
   ]
  },
  {
   "cell_type": "code",
   "execution_count": 108,
   "metadata": {},
   "outputs": [
    {
     "data": {
      "text/html": [
       "<div>\n",
       "<style scoped>\n",
       "    .dataframe tbody tr th:only-of-type {\n",
       "        vertical-align: middle;\n",
       "    }\n",
       "\n",
       "    .dataframe tbody tr th {\n",
       "        vertical-align: top;\n",
       "    }\n",
       "\n",
       "    .dataframe thead th {\n",
       "        text-align: right;\n",
       "    }\n",
       "</style>\n",
       "<table border=\"1\" class=\"dataframe\">\n",
       "  <thead>\n",
       "    <tr style=\"text-align: right;\">\n",
       "      <th></th>\n",
       "      <th>visual_authenticity_result</th>\n",
       "      <th>image_integrity_result</th>\n",
       "      <th>face_detection_result</th>\n",
       "      <th>image_quality_result</th>\n",
       "      <th>supported_document_result</th>\n",
       "      <th>data_validation_result</th>\n",
       "      <th>data_consistency_result</th>\n",
       "      <th>police_record_result</th>\n",
       "      <th>compromised_document_result</th>\n",
       "    </tr>\n",
       "  </thead>\n",
       "  <tbody>\n",
       "    <tr>\n",
       "      <th>0</th>\n",
       "      <td>1</td>\n",
       "      <td>1</td>\n",
       "      <td>1</td>\n",
       "      <td>1</td>\n",
       "      <td>1</td>\n",
       "      <td>0</td>\n",
       "      <td>0</td>\n",
       "      <td>1</td>\n",
       "      <td>1</td>\n",
       "    </tr>\n",
       "  </tbody>\n",
       "</table>\n",
       "</div>"
      ],
      "text/plain": [
       "   visual_authenticity_result  image_integrity_result  face_detection_result  \\\n",
       "0                           1                       1                      1   \n",
       "\n",
       "   image_quality_result  supported_document_result  data_validation_result  \\\n",
       "0                     1                          1                       0   \n",
       "\n",
       "   data_consistency_result  police_record_result  compromised_document_result  \n",
       "0                        0                     1                            1  "
      ]
     },
     "execution_count": 108,
     "metadata": {},
     "output_type": "execute_result"
    }
   ],
   "source": [
    "xtrain"
   ]
  },
  {
   "cell_type": "code",
   "execution_count": 109,
   "metadata": {},
   "outputs": [
    {
     "name": "stdout",
     "output_type": "stream",
     "text": [
      "clear\n"
     ]
    }
   ],
   "source": [
    "prediction=modelrandom.predict(xtrain)\n",
    "if(prediction==1):\n",
    "    print(\"clear\")\n",
    "else:\n",
    "    print(\"consider\")"
   ]
  },
  {
   "cell_type": "code",
   "execution_count": 51,
   "metadata": {},
   "outputs": [],
   "source": [
    "id3=tree.DecisionTreeClassifier(criterion='entropy')"
   ]
  },
  {
   "cell_type": "code",
   "execution_count": 52,
   "metadata": {},
   "outputs": [
    {
     "data": {
      "text/plain": [
       "DecisionTreeClassifier(class_weight=None, criterion='entropy', max_depth=None,\n",
       "            max_features=None, max_leaf_nodes=None,\n",
       "            min_impurity_decrease=0.0, min_impurity_split=None,\n",
       "            min_samples_leaf=1, min_samples_split=2,\n",
       "            min_weight_fraction_leaf=0.0, presort=False, random_state=None,\n",
       "            splitter='best')"
      ]
     },
     "execution_count": 52,
     "metadata": {},
     "output_type": "execute_result"
    }
   ],
   "source": [
    "id3.fit(x_train,y_train)"
   ]
  },
  {
   "cell_type": "code",
   "execution_count": 53,
   "metadata": {},
   "outputs": [],
   "source": [
    "accu_train_id3=np.sum(c.predict(x_train)==y_train)\n",
    "accu_test_id3=np.sum(c.predict(x_test)==y_test)"
   ]
  },
  {
   "cell_type": "code",
   "execution_count": 56,
   "metadata": {},
   "outputs": [
    {
     "name": "stdout",
     "output_type": "stream",
     "text": [
      "0.9945579773815935\n"
     ]
    }
   ],
   "source": [
    "print(accu_test_id3/x_test.shape[0])"
   ]
  }
 ],
 "metadata": {
  "kernelspec": {
   "display_name": "Python 3",
   "language": "python",
   "name": "python3"
  },
  "language_info": {
   "codemirror_mode": {
    "name": "ipython",
    "version": 3
   },
   "file_extension": ".py",
   "mimetype": "text/x-python",
   "name": "python",
   "nbconvert_exporter": "python",
   "pygments_lexer": "ipython3",
   "version": "3.6.5"
  }
 },
 "nbformat": 4,
 "nbformat_minor": 2
}
